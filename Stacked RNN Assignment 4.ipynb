{
 "cells": [
  {
   "cell_type": "code",
   "execution_count": 1,
   "id": "6c8ee785",
   "metadata": {},
   "outputs": [],
   "source": [
    "# Author Bereket Kebede, Graduate Student\n",
    "# Neural Networks -  Assignment #4 - University of Memphis. Fall 2021\n",
    "# Question #1, Stacked RNN, LSTM, GRU\n",
    "# Last updated - Oct 25, 2021\n"
   ]
  },
  {
   "cell_type": "code",
   "execution_count": 1,
   "id": "e3d91d52",
   "metadata": {},
   "outputs": [],
   "source": [
    "import tensorflow as tf\n",
    "physical_devices = tf.config.list_physical_devices('GPU')\n",
    "tf.config.experimental.set_memory_growth(physical_devices[0], enable=True)"
   ]
  },
  {
   "cell_type": "code",
   "execution_count": 2,
   "id": "bf3f7700",
   "metadata": {},
   "outputs": [],
   "source": [
    "#####################################################################################\n",
    "# Import necessary libraries\n",
    "\n",
    "import numpy as np\n",
    "from sklearn.metrics import accuracy_score\n",
    "from keras.datasets import reuters\n",
    "from keras.preprocessing.sequence import pad_sequences\n",
    "from tensorflow.keras.utils import to_categorical\n",
    "import os\n",
    "\n",
    "from keras.models import Sequential\n",
    "from keras.layers import Dense, SimpleRNN, Activation\n",
    "from tensorflow.keras import optimizers\n",
    "from keras.wrappers.scikit_learn import KerasClassifier\n",
    "from keras.preprocessing.text import Tokenizer\n",
    "\n",
    "\n",
    "from keras.preprocessing.sequence import pad_sequences\n",
    "from keras.models import Model\n",
    "from keras.layers import GRU, Input, Dense, TimeDistributed, Activation, RepeatVector, Bidirectional\n",
    "from keras.layers.embeddings import Embedding\n",
    "from tensorflow.keras.optimizers import Adam\n",
    "from keras.losses import sparse_categorical_crossentropy"
   ]
  },
  {
   "cell_type": "code",
   "execution_count": 42,
   "id": "c2c94e88",
   "metadata": {},
   "outputs": [],
   "source": [
    "#####################################################################################\n",
    "# Load Data\n",
    "\n",
    "\n",
    "def load_data(path):\n",
    "    \"\"\"\n",
    "    Load dataset\n",
    "    \"\"\"\n",
    "    input_file = os.path.join(path)\n",
    "    with open(input_file, \"r\") as f:\n",
    "        data = f.read()\n",
    " \n",
    "    return data.split('\\n')"
   ]
  },
  {
   "cell_type": "code",
   "execution_count": 43,
   "id": "c898b7ba",
   "metadata": {},
   "outputs": [
    {
     "name": "stdout",
     "output_type": "stream",
     "text": [
      "Dataset Loaded\n"
     ]
    }
   ],
   "source": [
    "#####################################################################################\n",
    "# Row Data Reading\n",
    "\n",
    "# Load English data\n",
    "english_sentences = load_data('small_vocab_en.txt')\n",
    "# Load French data\n",
    "french_sentences = load_data('small_vocab_fr.txt')\n",
    "\n",
    "print('Dataset Loaded')"
   ]
  },
  {
   "cell_type": "code",
   "execution_count": 44,
   "id": "051a6bb0",
   "metadata": {},
   "outputs": [
    {
     "name": "stdout",
     "output_type": "stream",
     "text": [
      "small_vocab_en Line 1:  new jersey is sometimes quiet during autumn , and it is snowy in april .\n",
      "small_vocab_fr Line 1:  new jersey est parfois calme pendant l' automne , et il est neigeux en avril .\n",
      "small_vocab_en Line 2:  the united states is usually chilly during july , and it is usually freezing in november .\n",
      "small_vocab_fr Line 2:  les Ã©tats-unis est gÃ©nÃ©ralement froid en juillet , et il gÃ¨le habituellement en novembre .\n"
     ]
    }
   ],
   "source": [
    "#####################################################################################\n",
    "# Display Sample data\n",
    "\n",
    "for sample_i in range(2):\n",
    "    print('small_vocab_en Line {}:  {}'.format(sample_i + 1, english_sentences[sample_i]))\n",
    "    print('small_vocab_fr Line {}:  {}'.format(sample_i + 1, french_sentences[sample_i]))"
   ]
  },
  {
   "cell_type": "code",
   "execution_count": 45,
   "id": "d72a3f38",
   "metadata": {},
   "outputs": [
    {
     "name": "stdout",
     "output_type": "stream",
     "text": [
      "{'the': 1, 'quick': 2, 'a': 3, 'brown': 4, 'fox': 5, 'jumps': 6, 'over': 7, 'lazy': 8, 'dog': 9, 'by': 10, 'jove': 11, 'my': 12, 'study': 13, 'of': 14, 'lexicography': 15, 'won': 16, 'prize': 17, 'this': 18, 'is': 19, 'short': 20, 'sentence': 21}\n",
      "\n",
      "Sequence 1 in x\n",
      "  Input:  The quick brown fox jumps over the lazy dog .\n",
      "  Output: [1, 2, 4, 5, 6, 7, 1, 8, 9]\n",
      "Sequence 2 in x\n",
      "  Input:  By Jove , my quick study of lexicography won a prize .\n",
      "  Output: [10, 11, 12, 2, 13, 14, 15, 16, 3, 17]\n",
      "Sequence 3 in x\n",
      "  Input:  This is a short sentence .\n",
      "  Output: [18, 19, 3, 20, 21]\n"
     ]
    }
   ],
   "source": [
    "def tokenize(x):\n",
    "    \"\"\"\n",
    "    Tokenize x\n",
    "    :param x: List of sentences/strings to be tokenized\n",
    "    :return: Tuple of (tokenized x data, tokenizer used to tokenize x)\n",
    "    \"\"\"\n",
    "    # TODO: Implement\n",
    "    x_tk = Tokenizer(char_level = False)\n",
    "    x_tk.fit_on_texts(x)\n",
    "    return x_tk.texts_to_sequences(x), x_tk\n",
    "\n",
    "# Tokenize Example output\n",
    "text_sentences = [\n",
    "    'The quick brown fox jumps over the lazy dog .',\n",
    "    'By Jove , my quick study of lexicography won a prize .',\n",
    "    'This is a short sentence .']\n",
    "text_tokenized, text_tokenizer = tokenize(text_sentences)\n",
    "print(text_tokenizer.word_index)\n",
    "print()\n",
    "for sample_i, (sent, token_sent) in enumerate(zip(text_sentences, text_tokenized)):\n",
    "    print('Sequence {} in x'.format(sample_i + 1))\n",
    "    print('  Input:  {}'.format(sent))\n",
    "    print('  Output: {}'.format(token_sent))"
   ]
  },
  {
   "cell_type": "code",
   "execution_count": 46,
   "id": "de967ffa",
   "metadata": {},
   "outputs": [
    {
     "name": "stdout",
     "output_type": "stream",
     "text": [
      "Sequence 1 in x\n",
      "  Input:  [1 2 4 5 6 7 1 8 9]\n",
      "  Output: [1 2 4 5 6 7 1 8 9 0]\n",
      "Sequence 2 in x\n",
      "  Input:  [10 11 12  2 13 14 15 16  3 17]\n",
      "  Output: [10 11 12  2 13 14 15 16  3 17]\n",
      "Sequence 3 in x\n",
      "  Input:  [18 19  3 20 21]\n",
      "  Output: [18 19  3 20 21  0  0  0  0  0]\n"
     ]
    }
   ],
   "source": [
    "def pad(x, length=None):\n",
    "    \"\"\"\n",
    "    Pad x\n",
    "    :param x: List of sequences.\n",
    "    :param length: Length to pad the sequence to.  If None, use length of longest sequence in x.\n",
    "    :return: Padded numpy array of sequences\n",
    "    \"\"\"\n",
    "    # TODO: Implement\n",
    "    if length is None:\n",
    "        length = max([len(sentence) for sentence in x])\n",
    "    return pad_sequences(x, maxlen = length, padding = 'post')\n",
    "\n",
    "#tests.test_pad(pad)\n",
    "\n",
    "# Pad Tokenized output\n",
    "test_pad = pad(text_tokenized)\n",
    "for sample_i, (token_sent, pad_sent) in enumerate(zip(text_tokenized, test_pad)):\n",
    "    print('Sequence {} in x'.format(sample_i + 1))\n",
    "    print('  Input:  {}'.format(np.array(token_sent)))\n",
    "    print('  Output: {}'.format(pad_sent))"
   ]
  },
  {
   "cell_type": "code",
   "execution_count": 47,
   "id": "551199a8",
   "metadata": {},
   "outputs": [
    {
     "name": "stdout",
     "output_type": "stream",
     "text": [
      "Data Preprocessed\n",
      "Max English sentence length: 15\n",
      "Max French sentence length: 21\n",
      "English vocabulary size: 199\n",
      "French vocabulary size: 345\n"
     ]
    }
   ],
   "source": [
    "def preprocess(x, y):\n",
    "    \"\"\"\n",
    "    Preprocess x and y\n",
    "    :param x: Feature List of sentences\n",
    "    :param y: Label List of sentences\n",
    "    :return: Tuple of (Preprocessed x, Preprocessed y, x tokenizer, y tokenizer)\n",
    "    \"\"\"\n",
    "    preprocess_x, x_tk = tokenize(x)\n",
    "    preprocess_y, y_tk = tokenize(y)\n",
    "\n",
    "    preprocess_x = pad(preprocess_x)\n",
    "    preprocess_y = pad(preprocess_y)\n",
    "\n",
    "    # Keras's sparse_categorical_crossentropy function requires the labels to be in 3 dimensions\n",
    "    preprocess_y = preprocess_y.reshape(*preprocess_y.shape, 1)\n",
    "\n",
    "    return preprocess_x, preprocess_y, x_tk, y_tk\n",
    "\n",
    "preproc_english_sentences, preproc_french_sentences, english_tokenizer, french_tokenizer =\\\n",
    "    preprocess(english_sentences, french_sentences)\n",
    "    \n",
    "max_english_sequence_length = preproc_english_sentences.shape[1]\n",
    "max_french_sequence_length = preproc_french_sentences.shape[1]\n",
    "english_vocab_size = len(english_tokenizer.word_index)\n",
    "french_vocab_size = len(french_tokenizer.word_index)\n",
    "\n",
    "print('Data Preprocessed')\n",
    "print(\"Max English sentence length:\", max_english_sequence_length)\n",
    "print(\"Max French sentence length:\", max_french_sequence_length)\n",
    "print(\"English vocabulary size:\", english_vocab_size)\n",
    "print(\"French vocabulary size:\", french_vocab_size)"
   ]
  },
  {
   "cell_type": "code",
   "execution_count": 48,
   "id": "6c595e8d",
   "metadata": {},
   "outputs": [
    {
     "name": "stdout",
     "output_type": "stream",
     "text": [
      "`logits_to_text` function loaded.\n"
     ]
    }
   ],
   "source": [
    "def logits_to_text(logits, tokenizer):\n",
    "    \"\"\"\n",
    "    Turn logits from a neural network into text using the tokenizer\n",
    "    :param logits: Logits from a neural network\n",
    "    :param tokenizer: Keras Tokenizer fit on the labels\n",
    "    :return: String that represents the text of the logits\n",
    "    \"\"\"\n",
    "    index_to_words = {id: word for word, id in tokenizer.word_index.items()}\n",
    "    index_to_words[0] = '<PAD>'\n",
    "\n",
    "    return ' '.join([index_to_words[prediction] for prediction in np.argmax(logits, 1)])\n",
    "\n",
    "print('`logits_to_text` function loaded.')"
   ]
  },
  {
   "cell_type": "code",
   "execution_count": 49,
   "id": "6f7a600f",
   "metadata": {},
   "outputs": [
    {
     "name": "stdout",
     "output_type": "stream",
     "text": [
      "(21, 1)\n"
     ]
    }
   ],
   "source": [
    "def simple_model(input_shape, output_sequence_length, english_vocab_size, french_vocab_size):\n",
    "    \"\"\"\n",
    "    Build and train a basic RNN on x and y\n",
    "    :param input_shape: Tuple of input shape\n",
    "    :param output_sequence_length: Length of output sequence\n",
    "    :param english_vocab_size: Number of unique English words in the dataset\n",
    "    :param french_vocab_size: Number of unique French words in the dataset\n",
    "    :return: Keras model built, but not trained\n",
    "    \"\"\"\n",
    "    learning_rate = 1e-3\n",
    "    input_seq = Input(input_shape[1:])\n",
    "    rnn = GRU(64, return_sequences = True)(input_seq)\n",
    "    logits = TimeDistributed(Dense(french_vocab_size))(rnn)\n",
    "    model = Model(input_seq, Activation('softmax')(logits))\n",
    "    model.compile(loss = sparse_categorical_crossentropy, \n",
    "                 optimizer = Adam(learning_rate), \n",
    "                 metrics = ['accuracy'])\n",
    "    \n",
    "    return model\n",
    "\n",
    "\n",
    "# Reshaping the input to work with a basic RNN\n",
    "tmp_x = pad(preproc_english_sentences, max_french_sequence_length)\n",
    "tmp_x = tmp_x.reshape((-1, preproc_french_sentences.shape[-2], 1))\n",
    "print(tmp_x.shape[1:])"
   ]
  },
  {
   "cell_type": "code",
   "execution_count": 11,
   "id": "c13406f9",
   "metadata": {},
   "outputs": [
    {
     "name": "stdout",
     "output_type": "stream",
     "text": [
      "Model: \"model\"\n",
      "_________________________________________________________________\n",
      "Layer (type)                 Output Shape              Param #   \n",
      "=================================================================\n",
      "input_1 (InputLayer)         [(None, 21, 1)]           0         \n",
      "_________________________________________________________________\n",
      "gru (GRU)                    (None, 21, 64)            12864     \n",
      "_________________________________________________________________\n",
      "time_distributed (TimeDistri (None, 21, 345)           22425     \n",
      "_________________________________________________________________\n",
      "activation (Activation)      (None, 21, 345)           0         \n",
      "=================================================================\n",
      "Total params: 35,289\n",
      "Trainable params: 35,289\n",
      "Non-trainable params: 0\n",
      "_________________________________________________________________\n",
      "Epoch 1/10\n",
      "6893/6893 [==============================] - 24s 3ms/step - loss: 1.4854 - accuracy: 0.6191 - val_loss: nan - val_accuracy: 0.6519\n",
      "Epoch 2/10\n",
      "6893/6893 [==============================] - 21s 3ms/step - loss: 1.1331 - accuracy: 0.6661 - val_loss: nan - val_accuracy: 0.6819\n",
      "Epoch 3/10\n",
      "6893/6893 [==============================] - 20s 3ms/step - loss: 1.0359 - accuracy: 0.6953 - val_loss: nan - val_accuracy: 0.7011\n",
      "Epoch 4/10\n",
      "6893/6893 [==============================] - 20s 3ms/step - loss: 0.9763 - accuracy: 0.7097 - val_loss: nan - val_accuracy: 0.7173\n",
      "Epoch 5/10\n",
      "6893/6893 [==============================] - 20s 3ms/step - loss: 0.9307 - accuracy: 0.7234 - val_loss: nan - val_accuracy: 0.7291\n",
      "Epoch 6/10\n",
      "6893/6893 [==============================] - 21s 3ms/step - loss: 0.8998 - accuracy: 0.7323 - val_loss: nan - val_accuracy: 0.7398\n",
      "Epoch 7/10\n",
      "6893/6893 [==============================] - 20s 3ms/step - loss: 0.8753 - accuracy: 0.7388 - val_loss: nan - val_accuracy: 0.7394\n",
      "Epoch 8/10\n",
      "6893/6893 [==============================] - 20s 3ms/step - loss: 0.8563 - accuracy: 0.7437 - val_loss: nan - val_accuracy: 0.7456\n",
      "Epoch 9/10\n",
      "6893/6893 [==============================] - 20s 3ms/step - loss: 0.8403 - accuracy: 0.7478 - val_loss: nan - val_accuracy: 0.7542\n",
      "Epoch 10/10\n",
      "6893/6893 [==============================] - 20s 3ms/step - loss: 0.8265 - accuracy: 0.7516 - val_loss: nan - val_accuracy: 0.7534\n"
     ]
    },
    {
     "data": {
      "text/plain": [
       "<keras.callbacks.History at 0x14691419ca0>"
      ]
     },
     "execution_count": 11,
     "metadata": {},
     "output_type": "execute_result"
    }
   ],
   "source": [
    "#####################################################################################\n",
    "# Train the Neural Network\n",
    "\n",
    "simple_rnn_model = simple_model(tmp_x.shape,max_french_sequence_length,english_vocab_size,french_vocab_size)\n",
    "\n",
    "simple_rnn_model.summary()\n",
    "\n",
    "simple_rnn_model.fit(tmp_x, preproc_french_sentences, batch_size=16, epochs=10, validation_split=0.2)"
   ]
  },
  {
   "cell_type": "code",
   "execution_count": 12,
   "id": "3c04a0b6",
   "metadata": {},
   "outputs": [
    {
     "name": "stdout",
     "output_type": "stream",
     "text": [
      "new jersey est parfois humide en l' de il est il est en <PAD> <PAD> <PAD> <PAD> <PAD> <PAD> <PAD> <PAD>\n"
     ]
    }
   ],
   "source": [
    "prediction = simple_rnn_model.predict(tmp_x[:1])\n",
    "print(logits_to_text(prediction[0], french_tokenizer))"
   ]
  },
  {
   "cell_type": "code",
   "execution_count": 73,
   "id": "a59ed31e",
   "metadata": {},
   "outputs": [],
   "source": [
    "def stacked_rnn(input_shape, output_sequence_length, english_vocab_size, french_vocab_size):\n",
    "    \"\"\"\n",
    "    Build and train a basic RNN on x and y\n",
    "    :param input_shape: Tuple of input shape\n",
    "    :param output_sequence_length: Length of output sequence\n",
    "    :param english_vocab_size: Number of unique English words in the dataset\n",
    "    :param french_vocab_size: Number of unique French words in the dataset\n",
    "    :return: Keras model built, but not trained\n",
    "    \"\"\"\n",
    "    # TODO: Build the layers\n",
    "    learning_rate = 1e-3\n",
    "    input_seq = Input(input_shape[1:])\n",
    "    rnn = GRU(64, return_sequences = True)(input_seq)\n",
    "    logits = TimeDistributed(Dense(french_vocab_size))(rnn)\n",
    "    \n",
    "    print(input_shape)\n",
    "    \n",
    "    \n",
    "    #model = Model(input_seq, Activation('softmax')(logits))\n",
    "\n",
    "    model = Sequential()\n",
    "   \n",
    "    model.add(SimpleRNN(50, input_shape = input_shape[1:], return_sequences = True))   # return_sequences parameter has to be set True to stack\n",
    "    model.add(SimpleRNN(50, return_sequences = True))\n",
    "    model.add(Dense(french_vocab_size, activation='softmax'))\n",
    "\n",
    "    model.compile(loss = sparse_categorical_crossentropy, \n",
    "                 optimizer = Adam(learning_rate), \n",
    "                 metrics = ['accuracy'])\n",
    "    \n",
    "    return model\n",
    "\n",
    "\n",
    "#tests.test_simple_model(simple_model)\n"
   ]
  },
  {
   "cell_type": "code",
   "execution_count": 74,
   "id": "f513da1d",
   "metadata": {},
   "outputs": [
    {
     "name": "stdout",
     "output_type": "stream",
     "text": [
      "(137861, 21, 1)\n",
      "Model: \"sequential_31\"\n",
      "_________________________________________________________________\n",
      "Layer (type)                 Output Shape              Param #   \n",
      "=================================================================\n",
      "simple_rnn_57 (SimpleRNN)    (None, 21, 50)            2600      \n",
      "_________________________________________________________________\n",
      "simple_rnn_58 (SimpleRNN)    (None, 21, 50)            5050      \n",
      "_________________________________________________________________\n",
      "dense_40 (Dense)             (None, 21, 345)           17595     \n",
      "=================================================================\n",
      "Total params: 25,245\n",
      "Trainable params: 25,245\n",
      "Non-trainable params: 0\n",
      "_________________________________________________________________\n",
      "Epoch 1/10\n",
      "6893/6893 [==============================] - 251s 36ms/step - loss: 1.4468 - accuracy: 0.6209 - val_loss: nan - val_accuracy: 0.6646\n",
      "Epoch 2/10\n",
      "6893/6893 [==============================] - 249s 36ms/step - loss: 1.0924 - accuracy: 0.6866 - val_loss: nan - val_accuracy: 0.7063\n",
      "Epoch 3/10\n",
      "6893/6893 [==============================] - 252s 37ms/step - loss: 0.9906 - accuracy: 0.7075 - val_loss: nan - val_accuracy: 0.7146\n",
      "Epoch 4/10\n",
      "6893/6893 [==============================] - 244s 35ms/step - loss: 0.9369 - accuracy: 0.7185 - val_loss: nan - val_accuracy: 0.7240\n",
      "Epoch 5/10\n",
      "6893/6893 [==============================] - 252s 37ms/step - loss: 0.8992 - accuracy: 0.7267 - val_loss: nan - val_accuracy: 0.7292\n",
      "Epoch 6/10\n",
      "6893/6893 [==============================] - 252s 37ms/step - loss: 0.8703 - accuracy: 0.7338 - val_loss: nan - val_accuracy: 0.7350\n",
      "Epoch 7/10\n",
      "6893/6893 [==============================] - 253s 37ms/step - loss: 0.8446 - accuracy: 0.7407 - val_loss: nan - val_accuracy: 0.7390\n",
      "Epoch 8/10\n",
      "6893/6893 [==============================] - 252s 37ms/step - loss: 0.8251 - accuracy: 0.7452 - val_loss: nan - val_accuracy: 0.7528\n",
      "Epoch 9/10\n",
      "6893/6893 [==============================] - 253s 37ms/step - loss: 0.8071 - accuracy: 0.7503 - val_loss: nan - val_accuracy: 0.7521\n",
      "Epoch 10/10\n",
      "6893/6893 [==============================] - 254s 37ms/step - loss: 0.7942 - accuracy: 0.7539 - val_loss: nan - val_accuracy: 0.7557 0.7943 - \n"
     ]
    },
    {
     "data": {
      "text/plain": [
       "<keras.callbacks.History at 0x14691c46400>"
      ]
     },
     "execution_count": 74,
     "metadata": {},
     "output_type": "execute_result"
    }
   ],
   "source": [
    "stacked_rnn_model = stacked_rnn(tmp_x.shape,max_french_sequence_length,english_vocab_size,french_vocab_size)\n",
    "\n",
    "stacked_rnn_model.summary()\n",
    "\n",
    "stacked_rnn_model.fit(tmp_x, preproc_french_sentences, batch_size=16, epochs=10, validation_split=0.2)"
   ]
  },
  {
   "cell_type": "code",
   "execution_count": 135,
   "id": "781eb905",
   "metadata": {},
   "outputs": [
    {
     "name": "stdout",
     "output_type": "stream",
     "text": [
      "les ã©tats unis est gã©nã©ralement pluvieux en avril et il est gã©nã©ralement agrã©able en ã©tã© <PAD> <PAD> <PAD> <PAD> <PAD> <PAD>\n",
      "californie est gã©nã©ralement habituellement en l' et il est gã©nã©ralement relaxant en l' <PAD> <PAD> <PAD> <PAD> <PAD> <PAD> <PAD> <PAD>\n",
      "les ã©tats unis est parfois humide en printemps et il est est en juillet <PAD> <PAD> <PAD> <PAD> <PAD> <PAD> <PAD>\n",
      "votre fruit est moins aimã© la raisin mais moins moins aimã© est la <PAD> <PAD> <PAD> <PAD> <PAD> <PAD> <PAD> <PAD>\n",
      "son fruit prã©fã©rã© est la citron mais votre favori est la raisin <PAD> <PAD> <PAD> <PAD> <PAD> <PAD> <PAD> <PAD> <PAD>\n",
      "paris est calme en dã©cembre mais il est gã©nã©ralement pluvieux en juillet <PAD> <PAD> <PAD> <PAD> <PAD> <PAD> <PAD> <PAD> <PAD>\n",
      "new jersey est occupã© en juin et il est jamais tranquille en mars <PAD> <PAD> <PAD> <PAD> <PAD> <PAD> <PAD> <PAD>\n",
      "notre fruit aimã© moins est la chaux mais moins moins aimã© est la pomme <PAD> <PAD> <PAD> <PAD> <PAD> <PAD> <PAD>\n",
      "les ã©tats unis est parfois occupã© en printemps et il est parfois chaud en ã©tã© <PAD> <PAD> <PAD> <PAD> <PAD> <PAD>\n",
      "les banane est son fruit aimã© des fruits mais la mangue est moins moins aimã© <PAD> <PAD> <PAD> <PAD> <PAD> <PAD>\n"
     ]
    }
   ],
   "source": [
    "from numpy import zeros, newaxis\n",
    "b = tmp_x[newaxis, :, :, :]\n",
    "for i in range(1,11):\n",
    "    prediction = stacked_rnn_model.predict(b[:,i,:,:])\n",
    "    print(logits_to_text(prediction[0], french_tokenizer))"
   ]
  },
  {
   "cell_type": "code",
   "execution_count": 143,
   "id": "f3484aa7",
   "metadata": {},
   "outputs": [],
   "source": [
    "from keras.layers import LSTM\n",
    "def stacked_lstm(input_shape, output_sequence_length, english_vocab_size, french_vocab_size):\n",
    "    \"\"\"\n",
    "    Build and train a basic RNN on x and y\n",
    "    :param input_shape: Tuple of input shape\n",
    "    :param output_sequence_length: Length of output sequence\n",
    "    :param english_vocab_size: Number of unique English words in the dataset\n",
    "    :param french_vocab_size: Number of unique French words in the dataset\n",
    "    :return: Keras model built, but not trained\n",
    "    \"\"\"\n",
    "    learning_rate = 1e-3\n",
    "    \n",
    "    print(\"Input Shape: \")\n",
    "    print(input_shape)\n",
    "\n",
    "    model = Sequential()\n",
    "   \n",
    "    model.add(LSTM(50, input_shape = input_shape[1:], return_sequences = True))   # return_sequences parameter has to be set True to stack\n",
    "    model.add(LSTM(50, return_sequences = True))\n",
    "    model.add(Dense(french_vocab_size, activation='softmax'))\n",
    "\n",
    "    model.compile(loss = sparse_categorical_crossentropy, \n",
    "                 optimizer = Adam(learning_rate), \n",
    "                 metrics = ['accuracy'])\n",
    "    \n",
    "    return model\n",
    "\n"
   ]
  },
  {
   "cell_type": "code",
   "execution_count": 144,
   "id": "d4366d75",
   "metadata": {},
   "outputs": [
    {
     "name": "stdout",
     "output_type": "stream",
     "text": [
      "(137861, 21, 1)\n",
      "Model: \"sequential_36\"\n",
      "_________________________________________________________________\n",
      "Layer (type)                 Output Shape              Param #   \n",
      "=================================================================\n",
      "lstm_4 (LSTM)                (None, 21, 50)            10400     \n",
      "_________________________________________________________________\n",
      "lstm_5 (LSTM)                (None, 21, 50)            20200     \n",
      "_________________________________________________________________\n",
      "dense_42 (Dense)             (None, 21, 345)           17595     \n",
      "=================================================================\n",
      "Total params: 48,195\n",
      "Trainable params: 48,195\n",
      "Non-trainable params: 0\n",
      "_________________________________________________________________\n",
      "Epoch 1/10\n",
      "6893/6893 [==============================] - 46s 6ms/step - loss: 1.5328 - accuracy: 0.6084 - val_loss: nan - val_accuracy: 0.6698\n",
      "Epoch 2/10\n",
      "6893/6893 [==============================] - 44s 6ms/step - loss: 1.0542 - accuracy: 0.6935 - val_loss: nan - val_accuracy: 0.7122\n",
      "Epoch 3/10\n",
      "6893/6893 [==============================] - 44s 6ms/step - loss: 0.9294 - accuracy: 0.7174 - val_loss: nan - val_accuracy: 0.7236\n",
      "Epoch 4/10\n",
      "6893/6893 [==============================] - 44s 6ms/step - loss: 0.8730 - accuracy: 0.7287 - val_loss: nan - val_accuracy: 0.7317\n",
      "Epoch 5/10\n",
      "6893/6893 [==============================] - 44s 6ms/step - loss: 0.8303 - accuracy: 0.7389 - val_loss: nan - val_accuracy: 0.7349\n",
      "Epoch 6/10\n",
      "6893/6893 [==============================] - 44s 6ms/step - loss: 0.7933 - accuracy: 0.7477 - val_loss: nan - val_accuracy: 0.7480\n",
      "Epoch 7/10\n",
      "6893/6893 [==============================] - 44s 6ms/step - loss: 0.7629 - accuracy: 0.7550 - val_loss: nan - val_accuracy: 0.7591\n",
      "Epoch 8/10\n",
      "6893/6893 [==============================] - 44s 6ms/step - loss: 0.7377 - accuracy: 0.7611 - val_loss: nan - val_accuracy: 0.7684\n",
      "Epoch 9/10\n",
      "6893/6893 [==============================] - 44s 6ms/step - loss: 0.7178 - accuracy: 0.7663 - val_loss: nan - val_accuracy: 0.7505\n",
      "Epoch 10/10\n",
      "6893/6893 [==============================] - 44s 6ms/step - loss: 0.6983 - accuracy: 0.7719 - val_loss: nan - val_accuracy: 0.7757\n"
     ]
    },
    {
     "data": {
      "text/plain": [
       "<keras.callbacks.History at 0x14691c46e80>"
      ]
     },
     "execution_count": 144,
     "metadata": {},
     "output_type": "execute_result"
    }
   ],
   "source": [
    "stacked_lstm_model = stacked_lstm(tmp_x.shape,max_french_sequence_length,english_vocab_size,french_vocab_size)\n",
    "\n",
    "stacked_lstm_model.summary()\n",
    "\n",
    "stacked_lstm_model.fit(tmp_x, preproc_french_sentences, batch_size=16, epochs=10, validation_split=0.2)"
   ]
  },
  {
   "cell_type": "code",
   "execution_count": 146,
   "id": "94561853",
   "metadata": {},
   "outputs": [
    {
     "name": "stdout",
     "output_type": "stream",
     "text": [
      "la ã©tats unis est gã©nã©ralement froid en juillet et il est gã©nã©ralement agrã©able en <PAD> <PAD> <PAD> <PAD> <PAD> <PAD> <PAD>\n",
      "californie est gã©nã©ralement chaud en mois et il est gã©nã©ralement est en juin <PAD> <PAD> <PAD> <PAD> <PAD> <PAD> <PAD> <PAD>\n",
      "la ã©tats unis est parfois doux en juin et il est merveilleux en juillet <PAD> <PAD> <PAD> <PAD> <PAD> <PAD> <PAD>\n",
      "votre fruit est moins aimã© la raisin mais mon moins aimã© est la pomme <PAD> <PAD> <PAD> <PAD> <PAD> <PAD> <PAD>\n",
      "son fruit prã©fã©rã© est la mais mais prã©fã©rã© prã©fã©rã© est la <PAD> <PAD> <PAD> <PAD> <PAD> <PAD> <PAD> <PAD> <PAD> <PAD>\n",
      "paris est relaxant en fã©vrier mais il est gã©nã©ralement froid en juillet <PAD> <PAD> <PAD> <PAD> <PAD> <PAD> <PAD> <PAD> <PAD>\n",
      "new jersey est occupã© en l' et il est jamais chaud en l' <PAD> <PAD> <PAD> <PAD> <PAD> <PAD> <PAD> <PAD>\n",
      "notre fruit aimã© fruit est la pomme mais moins moins aimã© est la pomme <PAD> <PAD> <PAD> <PAD> <PAD> <PAD> <PAD>\n",
      "la ã©tats unis est parfois froid en l' et il est parfois froid en ã©tã© <PAD> <PAD> <PAD> <PAD> <PAD> <PAD>\n",
      "la banane est son fruit aimã© des fruits mais la est est moins moins aimã© <PAD> <PAD> <PAD> <PAD> <PAD> <PAD>\n"
     ]
    }
   ],
   "source": [
    "for i in range(1,11):\n",
    "    prediction = stacked_lstm_model.predict(b[:,i,:,:])\n",
    "    print(logits_to_text(prediction[0], french_tokenizer))"
   ]
  },
  {
   "cell_type": "code",
   "execution_count": 151,
   "id": "c5c50767",
   "metadata": {},
   "outputs": [],
   "source": [
    "from keras.layers import GRU\n",
    "def stacked_gru(input_shape, output_sequence_length, english_vocab_size, french_vocab_size):\n",
    "    \"\"\"\n",
    "    Build and train a basic RNN on x and y\n",
    "    :param input_shape: Tuple of input shape\n",
    "    :param output_sequence_length: Length of output sequence\n",
    "    :param english_vocab_size: Number of unique English words in the dataset\n",
    "    :param french_vocab_size: Number of unique French words in the dataset\n",
    "    :return: Keras model built, but not trained\n",
    "    \"\"\"\n",
    "    learning_rate = 1e-3\n",
    "    \n",
    "    print(\"Input Shape: \")\n",
    "    print(input_shape)\n",
    "\n",
    "    model = Sequential()\n",
    "   \n",
    "    model.add(GRU(50, input_shape = input_shape[1:], return_sequences = True))   # return_sequences parameter has to be set True to stack\n",
    "    model.add(GRU(50, return_sequences = True))\n",
    "    model.add(Dense(french_vocab_size, activation='softmax'))\n",
    "\n",
    "    model.compile(loss = sparse_categorical_crossentropy, \n",
    "                 optimizer = Adam(learning_rate), \n",
    "                 metrics = ['accuracy'])\n",
    "    \n",
    "    return model\n",
    "\n"
   ]
  },
  {
   "cell_type": "code",
   "execution_count": 152,
   "id": "bc689a97",
   "metadata": {},
   "outputs": [
    {
     "name": "stdout",
     "output_type": "stream",
     "text": [
      "Input Shape: \n",
      "(137861, 21, 1)\n",
      "Model: \"sequential_37\"\n",
      "_________________________________________________________________\n",
      "Layer (type)                 Output Shape              Param #   \n",
      "=================================================================\n",
      "gru_35 (GRU)                 (None, 21, 50)            7950      \n",
      "_________________________________________________________________\n",
      "gru_36 (GRU)                 (None, 21, 50)            15300     \n",
      "_________________________________________________________________\n",
      "dense_43 (Dense)             (None, 21, 345)           17595     \n",
      "=================================================================\n",
      "Total params: 40,845\n",
      "Trainable params: 40,845\n",
      "Non-trainable params: 0\n",
      "_________________________________________________________________\n",
      "Epoch 1/10\n",
      "6893/6893 [==============================] - 37s 5ms/step - loss: 1.5553 - accuracy: 0.6057 - val_loss: nan - val_accuracy: 0.6598\n",
      "Epoch 2/10\n",
      "6893/6893 [==============================] - 36s 5ms/step - loss: 1.1159 - accuracy: 0.6854 - val_loss: nan - val_accuracy: 0.7061\n",
      "Epoch 3/10\n",
      "6893/6893 [==============================] - 36s 5ms/step - loss: 0.9999 - accuracy: 0.7058 - val_loss: nan - val_accuracy: 0.7006\n",
      "Epoch 4/10\n",
      "6893/6893 [==============================] - 36s 5ms/step - loss: 0.9424 - accuracy: 0.7149 - val_loss: nan - val_accuracy: 0.7174\n",
      "Epoch 5/10\n",
      "6893/6893 [==============================] - 36s 5ms/step - loss: 0.9123 - accuracy: 0.7200 - val_loss: nan - val_accuracy: 0.7278\n",
      "Epoch 6/10\n",
      "6893/6893 [==============================] - 36s 5ms/step - loss: 0.8802 - accuracy: 0.7274 - val_loss: nan - val_accuracy: 0.7304\n",
      "Epoch 7/10\n",
      "6893/6893 [==============================] - 36s 5ms/step - loss: 0.8566 - accuracy: 0.7333 - val_loss: nan - val_accuracy: 0.7278\n",
      "Epoch 8/10\n",
      "6893/6893 [==============================] - 37s 5ms/step - loss: 0.8390 - accuracy: 0.7377 - val_loss: nan - val_accuracy: 0.7340\n",
      "Epoch 9/10\n",
      "6893/6893 [==============================] - 36s 5ms/step - loss: 0.8213 - accuracy: 0.7427 - val_loss: nan - val_accuracy: 0.7508\n",
      "Epoch 10/10\n",
      "6893/6893 [==============================] - 36s 5ms/step - loss: 0.8087 - accuracy: 0.7460 - val_loss: nan - val_accuracy: 0.7473\n"
     ]
    },
    {
     "data": {
      "text/plain": [
       "<keras.callbacks.History at 0x1468f465ee0>"
      ]
     },
     "execution_count": 152,
     "metadata": {},
     "output_type": "execute_result"
    }
   ],
   "source": [
    "stacked_gru_model = stacked_gru(tmp_x.shape,max_french_sequence_length,english_vocab_size,french_vocab_size)\n",
    "\n",
    "stacked_gru_model.summary()\n",
    "\n",
    "stacked_gru_model.fit(tmp_x, preproc_french_sentences, batch_size=16, epochs=10, validation_split=0.2)"
   ]
  },
  {
   "cell_type": "code",
   "execution_count": 153,
   "id": "6fd2ac07",
   "metadata": {},
   "outputs": [
    {
     "name": "stdout",
     "output_type": "stream",
     "text": [
      "les ã©tats unis est gã©nã©ralement pluvieux en juillet et il est gã©nã©ralement agrã©able en novembre <PAD> <PAD> <PAD> <PAD> <PAD> <PAD>\n",
      "californie est gã©nã©ralement calme en l' et il est gã©nã©ralement calme en printemps <PAD> <PAD> <PAD> <PAD> <PAD> <PAD> <PAD> <PAD>\n",
      "les ã©tats unis est parfois chaud en printemps et il est froid en septembre <PAD> <PAD> <PAD> <PAD> <PAD> <PAD> <PAD>\n",
      "votre fruit aimã© fruit est la pomme mais votre moins aimã© est la <PAD> <PAD> <PAD> <PAD> <PAD> <PAD> <PAD> <PAD>\n",
      "son fruit prã©fã©rã© est la pomme mais votre prã©fã©rã© est la pomme <PAD> <PAD> <PAD> <PAD> <PAD> <PAD> <PAD> <PAD> <PAD>\n",
      "paris est calme au mois mais il est gã©nã©ralement gã©nã©ralement en juillet <PAD> <PAD> <PAD> <PAD> <PAD> <PAD> <PAD> <PAD> <PAD>\n",
      "new jersey est occupã© au printemps et il est jamais tranquille en mars <PAD> <PAD> <PAD> <PAD> <PAD> <PAD> <PAD> <PAD>\n",
      "notre fruit moins fruit est la pomme mais votre moins aimã© est la <PAD> <PAD> <PAD> <PAD> <PAD> <PAD> <PAD> <PAD>\n",
      "les ã©tats unis est parfois froid en printemps et il est parfois enneigã©e en novembre <PAD> <PAD> <PAD> <PAD> <PAD> <PAD>\n",
      "les citron est son fruit aimã© des fruits mais la est est votre moins aimã© <PAD> <PAD> <PAD> <PAD> <PAD> <PAD>\n"
     ]
    }
   ],
   "source": [
    "for i in range(1,11):\n",
    "    prediction = stacked_gru_model.predict(b[:,i,:,:])\n",
    "    print(logits_to_text(prediction[0], french_tokenizer))"
   ]
  },
  {
   "cell_type": "code",
   "execution_count": null,
   "id": "35c79854",
   "metadata": {},
   "outputs": [],
   "source": []
  }
 ],
 "metadata": {
  "kernelspec": {
   "display_name": "Python 3 (ipykernel)",
   "language": "python",
   "name": "python3"
  },
  "language_info": {
   "codemirror_mode": {
    "name": "ipython",
    "version": 3
   },
   "file_extension": ".py",
   "mimetype": "text/x-python",
   "name": "python",
   "nbconvert_exporter": "python",
   "pygments_lexer": "ipython3",
   "version": "3.9.7"
  }
 },
 "nbformat": 4,
 "nbformat_minor": 5
}
