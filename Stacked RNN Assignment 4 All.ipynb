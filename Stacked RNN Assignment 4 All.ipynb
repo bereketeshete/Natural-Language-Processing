{
 "cells": [
  {
   "cell_type": "code",
   "execution_count": 1,
   "id": "6c8ee785",
   "metadata": {},
   "outputs": [],
   "source": [
    "# Author Bereket Kebede, Graduate Student\n",
    "# Neural Networks -  Assignment #4 - University of Memphis. Fall 2021\n",
    "# Question #1, Stacked RNN, LSTM, GRU\n",
    "# Last updated - Oct 26, 2021\n"
   ]
  },
  {
   "cell_type": "code",
   "execution_count": 2,
   "id": "bf3f7700",
   "metadata": {},
   "outputs": [],
   "source": [
    "#####################################################################################\n",
    "# Import necessary libraries\n",
    "\n",
    "import numpy as np\n",
    "from sklearn.metrics import accuracy_score\n",
    "from keras.datasets import reuters\n",
    "from keras.preprocessing.sequence import pad_sequences\n",
    "from tensorflow.keras.utils import to_categorical\n",
    "import os\n",
    "\n",
    "from keras.models import Sequential\n",
    "from keras.layers import Dense, SimpleRNN, Activation\n",
    "from tensorflow.keras import optimizers\n",
    "from keras.wrappers.scikit_learn import KerasClassifier\n",
    "from keras.preprocessing.text import Tokenizer\n",
    "\n",
    "from keras.preprocessing.sequence import pad_sequences\n",
    "from keras.models import Model\n",
    "from keras.layers import GRU, Input, Dense, TimeDistributed, Activation, RepeatVector, Bidirectional\n",
    "from keras.layers.embeddings import Embedding\n",
    "from tensorflow.keras.optimizers import Adam\n",
    "from keras.losses import sparse_categorical_crossentropy"
   ]
  },
  {
   "cell_type": "code",
   "execution_count": 3,
   "id": "9aada148",
   "metadata": {},
   "outputs": [],
   "source": [
    "#####################################################################################\n",
    "# Allow Memory Growth\n",
    "\n",
    "import tensorflow as tf\n",
    "physical_devices = tf.config.list_physical_devices('GPU')\n",
    "tf.config.experimental.set_memory_growth(physical_devices[0], enable=True)"
   ]
  },
  {
   "cell_type": "code",
   "execution_count": 4,
   "id": "c2c94e88",
   "metadata": {},
   "outputs": [],
   "source": [
    "#####################################################################################\n",
    "# Load Data\n",
    "\n",
    "\n",
    "def load_data(path):\n",
    "    \"\"\"\n",
    "    Load dataset\n",
    "    \"\"\"\n",
    "    input_file = os.path.join(path)\n",
    "    with open(input_file, \"r\") as f:\n",
    "        data = f.read()\n",
    " \n",
    "    return data.split('\\n')"
   ]
  },
  {
   "cell_type": "code",
   "execution_count": 5,
   "id": "c898b7ba",
   "metadata": {},
   "outputs": [
    {
     "name": "stdout",
     "output_type": "stream",
     "text": [
      "Dataset Loaded\n"
     ]
    }
   ],
   "source": [
    "#####################################################################################\n",
    "# Row Data Reading\n",
    "\n",
    "# Load English data\n",
    "english_sentences = load_data('small_vocab_en.txt')\n",
    "# Load French data\n",
    "french_sentences = load_data('small_vocab_fr.txt')\n",
    "\n",
    "print('Dataset Loaded')"
   ]
  },
  {
   "cell_type": "code",
   "execution_count": 6,
   "id": "051a6bb0",
   "metadata": {},
   "outputs": [
    {
     "name": "stdout",
     "output_type": "stream",
     "text": [
      "small_vocab_en Line 1:  new jersey is sometimes quiet during autumn , and it is snowy in april .\n",
      "small_vocab_fr Line 1:  new jersey est parfois calme pendant l' automne , et il est neigeux en avril .\n",
      "small_vocab_en Line 2:  the united states is usually chilly during july , and it is usually freezing in november .\n",
      "small_vocab_fr Line 2:  les états-unis est généralement froid en juillet , et il gèle habituellement en novembre .\n"
     ]
    }
   ],
   "source": [
    "#####################################################################################\n",
    "# Display Sample data\n",
    "\n",
    "for sample_i in range(2):\n",
    "    print('small_vocab_en Line {}:  {}'.format(sample_i + 1, english_sentences[sample_i]))\n",
    "    print('small_vocab_fr Line {}:  {}'.format(sample_i + 1, french_sentences[sample_i]))"
   ]
  },
  {
   "cell_type": "code",
   "execution_count": 7,
   "id": "d72a3f38",
   "metadata": {},
   "outputs": [
    {
     "name": "stdout",
     "output_type": "stream",
     "text": [
      "{'the': 1, 'quick': 2, 'a': 3, 'brown': 4, 'fox': 5, 'jumps': 6, 'over': 7, 'lazy': 8, 'dog': 9, 'by': 10, 'jove': 11, 'my': 12, 'study': 13, 'of': 14, 'lexicography': 15, 'won': 16, 'prize': 17, 'this': 18, 'is': 19, 'short': 20, 'sentence': 21}\n",
      "\n",
      "Sequence 1 in x\n",
      "  Input:  The quick brown fox jumps over the lazy dog .\n",
      "  Output: [1, 2, 4, 5, 6, 7, 1, 8, 9]\n",
      "Sequence 2 in x\n",
      "  Input:  By Jove , my quick study of lexicography won a prize .\n",
      "  Output: [10, 11, 12, 2, 13, 14, 15, 16, 3, 17]\n",
      "Sequence 3 in x\n",
      "  Input:  This is a short sentence .\n",
      "  Output: [18, 19, 3, 20, 21]\n"
     ]
    }
   ],
   "source": [
    "#####################################################################################\n",
    "# Tokenize text\n",
    "\n",
    "def tokenize(x):\n",
    "    \"\"\"\n",
    "    Tokenize x\n",
    "    :param x: List of sentences/strings to be tokenized\n",
    "    :return: Tuple of (tokenized x data, tokenizer used to tokenize x)\n",
    "    \"\"\"\n",
    "    # TODO: Implement\n",
    "    x_tk = Tokenizer(char_level = False)\n",
    "    x_tk.fit_on_texts(x)\n",
    "    return x_tk.texts_to_sequences(x), x_tk\n",
    "\n",
    "# Tokenize Example output\n",
    "text_sentences = [\n",
    "    'The quick brown fox jumps over the lazy dog .',\n",
    "    'By Jove , my quick study of lexicography won a prize .',\n",
    "    'This is a short sentence .']\n",
    "text_tokenized, text_tokenizer = tokenize(text_sentences)\n",
    "print(text_tokenizer.word_index)\n",
    "print()\n",
    "for sample_i, (sent, token_sent) in enumerate(zip(text_sentences, text_tokenized)):\n",
    "    print('Sequence {} in x'.format(sample_i + 1))\n",
    "    print('  Input:  {}'.format(sent))\n",
    "    print('  Output: {}'.format(token_sent))"
   ]
  },
  {
   "cell_type": "code",
   "execution_count": 8,
   "id": "de967ffa",
   "metadata": {},
   "outputs": [
    {
     "name": "stdout",
     "output_type": "stream",
     "text": [
      "Sequence 1 in x\n",
      "  Input:  [1 2 4 5 6 7 1 8 9]\n",
      "  Output: [1 2 4 5 6 7 1 8 9 0]\n",
      "Sequence 2 in x\n",
      "  Input:  [10 11 12  2 13 14 15 16  3 17]\n",
      "  Output: [10 11 12  2 13 14 15 16  3 17]\n",
      "Sequence 3 in x\n",
      "  Input:  [18 19  3 20 21]\n",
      "  Output: [18 19  3 20 21  0  0  0  0  0]\n"
     ]
    }
   ],
   "source": [
    "#####################################################################################\n",
    "# Add padding\n",
    "\n",
    "def pad(x, length=None):\n",
    "    \"\"\"\n",
    "    Pad x\n",
    "    :param x: List of sequences.\n",
    "    :param length: Length to pad the sequence to.  If None, use length of longest sequence in x.\n",
    "    :return: Padded numpy array of sequences\n",
    "    \"\"\"\n",
    "    # TODO: Implement\n",
    "    if length is None:\n",
    "        length = max([len(sentence) for sentence in x])\n",
    "    return pad_sequences(x, maxlen = length, padding = 'post')\n",
    "\n",
    "#tests.test_pad(pad)\n",
    "\n",
    "# Pad Tokenized output\n",
    "test_pad = pad(text_tokenized)\n",
    "for sample_i, (token_sent, pad_sent) in enumerate(zip(text_tokenized, test_pad)):\n",
    "    print('Sequence {} in x'.format(sample_i + 1))\n",
    "    print('  Input:  {}'.format(np.array(token_sent)))\n",
    "    print('  Output: {}'.format(pad_sent))"
   ]
  },
  {
   "cell_type": "code",
   "execution_count": 9,
   "id": "551199a8",
   "metadata": {},
   "outputs": [
    {
     "name": "stdout",
     "output_type": "stream",
     "text": [
      "Data Preprocessed\n",
      "Max English sentence length: 15\n",
      "Max French sentence length: 21\n",
      "English vocabulary size: 199\n",
      "French vocabulary size: 344\n"
     ]
    }
   ],
   "source": [
    "#####################################################################################\n",
    "# Pre-process data\n",
    "\n",
    "def preprocess(x, y):\n",
    "    \"\"\"\n",
    "    Preprocess x and y\n",
    "    :param x: Feature List of sentences\n",
    "    :param y: Label List of sentences\n",
    "    :return: Tuple of (Preprocessed x, Preprocessed y, x tokenizer, y tokenizer)\n",
    "    \"\"\"\n",
    "    preprocess_x, x_tk = tokenize(x)\n",
    "    preprocess_y, y_tk = tokenize(y)\n",
    "\n",
    "    preprocess_x = pad(preprocess_x)\n",
    "    preprocess_y = pad(preprocess_y)\n",
    "\n",
    "    # Keras's sparse_categorical_crossentropy function requires the labels to be in 3 dimensions\n",
    "    preprocess_y = preprocess_y.reshape(*preprocess_y.shape, 1)\n",
    "\n",
    "    return preprocess_x, preprocess_y, x_tk, y_tk\n",
    "\n",
    "preproc_english_sentences, preproc_french_sentences, english_tokenizer, french_tokenizer =\\\n",
    "    preprocess(english_sentences, french_sentences)\n",
    "    \n",
    "max_english_sequence_length = preproc_english_sentences.shape[1]\n",
    "max_french_sequence_length = preproc_french_sentences.shape[1]\n",
    "english_vocab_size = len(english_tokenizer.word_index)\n",
    "french_vocab_size = len(french_tokenizer.word_index)\n",
    "\n",
    "print('Data Preprocessed')\n",
    "print(\"Max English sentence length:\", max_english_sequence_length)\n",
    "print(\"Max French sentence length:\", max_french_sequence_length)\n",
    "print(\"English vocabulary size:\", english_vocab_size)\n",
    "print(\"French vocabulary size:\", french_vocab_size)"
   ]
  },
  {
   "cell_type": "code",
   "execution_count": 10,
   "id": "6c595e8d",
   "metadata": {},
   "outputs": [
    {
     "name": "stdout",
     "output_type": "stream",
     "text": [
      "`logits_to_text` function loaded.\n"
     ]
    }
   ],
   "source": [
    "#####################################################################################\n",
    "# logits back to text converter\n",
    "\n",
    "def logits_to_text(logits, tokenizer):\n",
    "    \"\"\"\n",
    "    Turn logits from a neural network into text using the tokenizer\n",
    "    :param logits: Logits from a neural network\n",
    "    :param tokenizer: Keras Tokenizer fit on the labels\n",
    "    :return: String that represents the text of the logits\n",
    "    \"\"\"\n",
    "    index_to_words = {id: word for word, id in tokenizer.word_index.items()}\n",
    "    index_to_words[0] = '<PAD>'\n",
    "\n",
    "    return ' '.join([index_to_words[prediction] for prediction in np.argmax(logits, 1)])\n",
    "\n",
    "print('`logits_to_text` function loaded.')"
   ]
  },
  {
   "cell_type": "code",
   "execution_count": 11,
   "id": "6f7a600f",
   "metadata": {},
   "outputs": [
    {
     "name": "stdout",
     "output_type": "stream",
     "text": [
      "(21, 1)\n"
     ]
    }
   ],
   "source": [
    "#####################################################################################\n",
    "# Define simple RNN model\n",
    "\n",
    "def simple_model(input_shape, output_sequence_length, english_vocab_size, french_vocab_size):\n",
    "    \"\"\"\n",
    "    Build and train a basic RNN on x and y\n",
    "    :param input_shape: Tuple of input shape\n",
    "    :param output_sequence_length: Length of output sequence\n",
    "    :param english_vocab_size: Number of unique English words in the dataset\n",
    "    :param french_vocab_size: Number of unique French words in the dataset\n",
    "    :return: Keras model built, but not trained\n",
    "    \"\"\"\n",
    "    learning_rate = 1e-3\n",
    "    input_seq = Input(input_shape[1:])\n",
    "    rnn = GRU(64, return_sequences = True)(input_seq)\n",
    "    logits = TimeDistributed(Dense(french_vocab_size))(rnn)\n",
    "    model = Model(input_seq, Activation('softmax')(logits))\n",
    "    model.compile(loss = sparse_categorical_crossentropy, \n",
    "                 optimizer = Adam(learning_rate), \n",
    "                 metrics = ['accuracy'])\n",
    "    \n",
    "    return model\n",
    "\n",
    "\n",
    "# Reshaping the input to work with a basic RNN\n",
    "tmp_x = pad(preproc_english_sentences, max_french_sequence_length)\n",
    "tmp_x = tmp_x.reshape((-1, preproc_french_sentences.shape[-2], 1))\n",
    "print(tmp_x.shape[1:])"
   ]
  },
  {
   "cell_type": "code",
   "execution_count": 12,
   "id": "c13406f9",
   "metadata": {},
   "outputs": [
    {
     "name": "stdout",
     "output_type": "stream",
     "text": [
      "Model: \"model\"\n",
      "_________________________________________________________________\n",
      "Layer (type)                 Output Shape              Param #   \n",
      "=================================================================\n",
      "input_1 (InputLayer)         [(None, 21, 1)]           0         \n",
      "_________________________________________________________________\n",
      "gru (GRU)                    (None, 21, 64)            12864     \n",
      "_________________________________________________________________\n",
      "time_distributed (TimeDistri (None, 21, 344)           22360     \n",
      "_________________________________________________________________\n",
      "activation (Activation)      (None, 21, 344)           0         \n",
      "=================================================================\n",
      "Total params: 35,224\n",
      "Trainable params: 35,224\n",
      "Non-trainable params: 0\n",
      "_________________________________________________________________\n",
      "Epoch 1/10\n",
      "6893/6893 [==============================] - 23s 3ms/step - loss: 1.5036 - accuracy: 0.6147 - val_loss: nan - val_accuracy: 0.6471\n",
      "Epoch 2/10\n",
      "6893/6893 [==============================] - 20s 3ms/step - loss: 1.1667 - accuracy: 0.6568 - val_loss: nan - val_accuracy: 0.6697\n",
      "Epoch 3/10\n",
      "6893/6893 [==============================] - 20s 3ms/step - loss: 1.0770 - accuracy: 0.6797 - val_loss: nan - val_accuracy: 0.6917\n",
      "Epoch 4/10\n",
      "6893/6893 [==============================] - 20s 3ms/step - loss: 1.0161 - accuracy: 0.6964 - val_loss: nan - val_accuracy: 0.6999\n",
      "Epoch 5/10\n",
      "6893/6893 [==============================] - 20s 3ms/step - loss: 0.9711 - accuracy: 0.7091 - val_loss: nan - val_accuracy: 0.7171\n",
      "Epoch 6/10\n",
      "6893/6893 [==============================] - 20s 3ms/step - loss: 0.9335 - accuracy: 0.7190 - val_loss: nan - val_accuracy: 0.7191\n",
      "Epoch 7/10\n",
      "6893/6893 [==============================] - 20s 3ms/step - loss: 0.9063 - accuracy: 0.7238 - val_loss: nan - val_accuracy: 0.7297\n",
      "Epoch 8/10\n",
      "6893/6893 [==============================] - 20s 3ms/step - loss: 0.8836 - accuracy: 0.7284 - val_loss: nan - val_accuracy: 0.7332\n",
      "Epoch 9/10\n",
      "6893/6893 [==============================] - 20s 3ms/step - loss: 0.8631 - accuracy: 0.7333 - val_loss: nan - val_accuracy: 0.7356\n",
      "Epoch 10/10\n",
      "6893/6893 [==============================] - 21s 3ms/step - loss: 0.8450 - accuracy: 0.7384 - val_loss: nan - val_accuracy: 0.7442\n"
     ]
    },
    {
     "data": {
      "text/plain": [
       "<keras.callbacks.History at 0x218d22bae50>"
      ]
     },
     "execution_count": 12,
     "metadata": {},
     "output_type": "execute_result"
    }
   ],
   "source": [
    "#####################################################################################\n",
    "# Train the simple RNN Neural Network\n",
    "\n",
    "simple_rnn_model = simple_model(tmp_x.shape,max_french_sequence_length,english_vocab_size,french_vocab_size)\n",
    "\n",
    "simple_rnn_model.summary()\n",
    "\n",
    "simple_rnn_model.fit(tmp_x, preproc_french_sentences, batch_size=16, epochs=10, validation_split=0.2)"
   ]
  },
  {
   "cell_type": "code",
   "execution_count": 13,
   "id": "3c04a0b6",
   "metadata": {},
   "outputs": [
    {
     "name": "stdout",
     "output_type": "stream",
     "text": [
      "new jersey est parfois chaud en mois et il est chaud en en <PAD> <PAD> <PAD> <PAD> <PAD> <PAD> <PAD> <PAD>\n"
     ]
    }
   ],
   "source": [
    "#####################################################################################\n",
    "# Test the simple RNN network\n",
    "\n",
    "prediction = simple_rnn_model.predict(tmp_x[:1])\n",
    "print(logits_to_text(prediction[0], french_tokenizer))"
   ]
  },
  {
   "cell_type": "code",
   "execution_count": 14,
   "id": "a59ed31e",
   "metadata": {},
   "outputs": [],
   "source": [
    "#####################################################################################\n",
    "# Define stacked RNN model\n",
    "\n",
    "def stacked_rnn(input_shape, output_sequence_length, english_vocab_size, french_vocab_size):\n",
    "    \"\"\"\n",
    "    Build and train a basic RNN on x and y\n",
    "    :param input_shape: Tuple of input shape\n",
    "    :param output_sequence_length: Length of output sequence\n",
    "    :param english_vocab_size: Number of unique English words in the dataset\n",
    "    :param french_vocab_size: Number of unique French words in the dataset\n",
    "    :return: Keras model built, but not trained\n",
    "    \"\"\"\n",
    "    learning_rate = 1e-3\n",
    "    print(input_shape)\n",
    "    \n",
    "    model = Sequential()\n",
    "    model.add(SimpleRNN(50, input_shape = input_shape[1:], return_sequences = True))   # return_sequences parameter has to be set True to stack\n",
    "    model.add(SimpleRNN(50, return_sequences = True))\n",
    "    model.add(Dense(french_vocab_size, activation='softmax'))\n",
    "\n",
    "    model.compile(loss = sparse_categorical_crossentropy, \n",
    "                 optimizer = Adam(learning_rate), \n",
    "                 metrics = ['accuracy'])\n",
    "    \n",
    "    return model\n"
   ]
  },
  {
   "cell_type": "code",
   "execution_count": 15,
   "id": "f513da1d",
   "metadata": {},
   "outputs": [
    {
     "name": "stdout",
     "output_type": "stream",
     "text": [
      "(137861, 21, 1)\n",
      "Model: \"sequential\"\n",
      "_________________________________________________________________\n",
      "Layer (type)                 Output Shape              Param #   \n",
      "=================================================================\n",
      "simple_rnn (SimpleRNN)       (None, 21, 50)            2600      \n",
      "_________________________________________________________________\n",
      "simple_rnn_1 (SimpleRNN)     (None, 21, 50)            5050      \n",
      "_________________________________________________________________\n",
      "dense_1 (Dense)              (None, 21, 344)           17544     \n",
      "=================================================================\n",
      "Total params: 25,194\n",
      "Trainable params: 25,194\n",
      "Non-trainable params: 0\n",
      "_________________________________________________________________\n",
      "Epoch 1/10\n",
      "6893/6893 [==============================] - 246s 36ms/step - loss: 1.4510 - accuracy: 0.6178 - val_loss: nan - val_accuracy: 0.6489\n",
      "Epoch 2/10\n",
      "6893/6893 [==============================] - 241s 35ms/step - loss: 1.1346 - accuracy: 0.6663 - val_loss: nan - val_accuracy: 0.6945\n",
      "Epoch 3/10\n",
      "6893/6893 [==============================] - 245s 35ms/step - loss: 1.0143 - accuracy: 0.7032 - val_loss: nan - val_accuracy: 0.7058\n",
      "Epoch 4/10\n",
      "6893/6893 [==============================] - 249s 36ms/step - loss: 0.9516 - accuracy: 0.7162 - val_loss: nan - val_accuracy: 0.7254\n",
      "Epoch 5/10\n",
      "6893/6893 [==============================] - 248s 36ms/step - loss: 0.9151 - accuracy: 0.7235 - val_loss: nan - val_accuracy: 0.7307\n",
      "Epoch 6/10\n",
      "6893/6893 [==============================] - 248s 36ms/step - loss: 0.8908 - accuracy: 0.7275 - val_loss: nan - val_accuracy: 0.6936\n",
      "Epoch 7/10\n",
      "6893/6893 [==============================] - 246s 36ms/step - loss: 0.8662 - accuracy: 0.7323 - val_loss: nan - val_accuracy: 0.7360\n",
      "Epoch 8/10\n",
      "6893/6893 [==============================] - 248s 36ms/step - loss: 0.8479 - accuracy: 0.7363 - val_loss: nan - val_accuracy: 0.7401\n",
      "Epoch 9/10\n",
      "6893/6893 [==============================] - 245s 36ms/step - loss: 0.8327 - accuracy: 0.7396 - val_loss: nan - val_accuracy: 0.7438\n",
      "Epoch 10/10\n",
      "6893/6893 [==============================] - 249s 36ms/step - loss: 0.8185 - accuracy: 0.7431 - val_loss: nan - val_accuracy: 0.7460\n"
     ]
    }
   ],
   "source": [
    "#####################################################################################\n",
    "# Train stacked RNN model\n",
    "\n",
    "stacked_rnn_model = stacked_rnn(tmp_x.shape,max_french_sequence_length,english_vocab_size,french_vocab_size)\n",
    "\n",
    "stacked_rnn_model.summary()\n",
    "\n",
    "history_1 = stacked_rnn_model.fit(tmp_x, preproc_french_sentences, batch_size=16, epochs=10, validation_split=0.2)"
   ]
  },
  {
   "cell_type": "code",
   "execution_count": 16,
   "id": "781eb905",
   "metadata": {},
   "outputs": [
    {
     "name": "stdout",
     "output_type": "stream",
     "text": [
      "les états unis est généralement froid en juillet et il est généralement agréable en décembre <PAD> <PAD> <PAD> <PAD> <PAD> <PAD>\n",
      "californie est généralement chaud en mois et il est généralement généralement en l' <PAD> <PAD> <PAD> <PAD> <PAD> <PAD> <PAD> <PAD>\n",
      "les états unis est parfois doux en printemps et il est froid en juillet <PAD> <PAD> <PAD> <PAD> <PAD> <PAD> <PAD>\n",
      "votre fruit aimé moins aimé la raisin mais son moins aimé est la <PAD> <PAD> <PAD> <PAD> <PAD> <PAD> <PAD> <PAD>\n",
      "son fruit préféré est la raisin mais votre favori est la raisin <PAD> <PAD> <PAD> <PAD> <PAD> <PAD> <PAD> <PAD> <PAD>\n",
      "paris est calme en décembre mais il est généralement froid en juillet <PAD> <PAD> <PAD> <PAD> <PAD> <PAD> <PAD> <PAD> <PAD>\n",
      "new jersey est occupé en printemps et il est jamais tranquille en mars <PAD> <PAD> <PAD> <PAD> <PAD> <PAD> <PAD> <PAD>\n",
      "leurs fruits aimé moins aimé la citron mais son moins aimé est la raisin <PAD> <PAD> <PAD> <PAD> <PAD> <PAD> <PAD>\n",
      "les états unis est parfois occupé en printemps et il est parfois enneigée en décembre <PAD> <PAD> <PAD> <PAD> <PAD> <PAD>\n",
      "les chaux est son fruit aimé des fruits mais la est est son aimé aimé <PAD> <PAD> <PAD> <PAD> <PAD> <PAD>\n"
     ]
    }
   ],
   "source": [
    "#####################################################################################\n",
    "# Display ten machine translation results using stacked RNN\n",
    "\n",
    "from numpy import zeros, newaxis\n",
    "b = tmp_x[newaxis, :, :, :]\n",
    "for i in range(1,11):\n",
    "    prediction = stacked_rnn_model.predict(b[:,i,:,:])\n",
    "    print(logits_to_text(prediction[0], french_tokenizer))"
   ]
  },
  {
   "cell_type": "code",
   "execution_count": 21,
   "id": "903ad2cc",
   "metadata": {},
   "outputs": [
    {
     "name": "stdout",
     "output_type": "stream",
     "text": [
      "Plotting training accuracy\n",
      "\n"
     ]
    },
    {
     "data": {
      "image/png": "[encoded data removed]",
      "text/plain": [
       "<Figure size 432x288 with 1 Axes>"
      ]
     },
     "metadata": {
      "needs_background": "light"
     },
     "output_type": "display_data"
    }
   ],
   "source": [
    "#####################################################################################\n",
    "# Plotting training accuracy for stacked RNN\n",
    "\n",
    "print('Plotting training accuracy\\n')\n",
    "plt.plot(history_1.history['accuracy'])\n",
    "plt.title('Translation Accuracy')\n",
    "plt.ylabel('Accuracy')\n",
    "plt.plot(history_1.history['val_accuracy'])\n",
    "plt.xlabel('Epoch')\n",
    "plt.legend(['Train', 'Test'], loc='upper left')\n",
    "plt.show()"
   ]
  },
  {
   "cell_type": "code",
   "execution_count": 22,
   "id": "f3484aa7",
   "metadata": {},
   "outputs": [],
   "source": [
    "#####################################################################################\n",
    "# Define stacked LSTM model\n",
    "\n",
    "from keras.layers import LSTM\n",
    "def stacked_lstm(input_shape, output_sequence_length, english_vocab_size, french_vocab_size):\n",
    "    \"\"\"\n",
    "    Build and train a basic RNN on x and y\n",
    "    :param input_shape: Tuple of input shape\n",
    "    :param output_sequence_length: Length of output sequence\n",
    "    :param english_vocab_size: Number of unique English words in the dataset\n",
    "    :param french_vocab_size: Number of unique French words in the dataset\n",
    "    :return: Keras model built, but not trained\n",
    "    \"\"\"\n",
    "    learning_rate = 1e-3\n",
    " \n",
    "    print(input_shape)\n",
    "\n",
    "    model = Sequential()\n",
    "    model.add(LSTM(50, input_shape = input_shape[1:], return_sequences = True))   # return_sequences parameter has to be set True to stack\n",
    "    model.add(LSTM(50, return_sequences = True))\n",
    "    model.add(Dense(french_vocab_size, activation='softmax'))\n",
    "\n",
    "    model.compile(loss = sparse_categorical_crossentropy, \n",
    "                 optimizer = Adam(learning_rate), \n",
    "                 metrics = ['accuracy'])\n",
    "    \n",
    "    return model\n"
   ]
  },
  {
   "cell_type": "code",
   "execution_count": 23,
   "id": "d4366d75",
   "metadata": {},
   "outputs": [
    {
     "name": "stdout",
     "output_type": "stream",
     "text": [
      "(137861, 21, 1)\n",
      "Model: \"sequential_1\"\n",
      "_________________________________________________________________\n",
      "Layer (type)                 Output Shape              Param #   \n",
      "=================================================================\n",
      "lstm (LSTM)                  (None, 21, 50)            10400     \n",
      "_________________________________________________________________\n",
      "lstm_1 (LSTM)                (None, 21, 50)            20200     \n",
      "_________________________________________________________________\n",
      "dense_2 (Dense)              (None, 21, 344)           17544     \n",
      "=================================================================\n",
      "Total params: 48,144\n",
      "Trainable params: 48,144\n",
      "Non-trainable params: 0\n",
      "_________________________________________________________________\n",
      "Epoch 1/10\n",
      "6893/6893 [==============================] - 46s 7ms/step - loss: 1.5412 - accuracy: 0.6045 - val_loss: nan - val_accuracy: 0.6601\n",
      "Epoch 2/10\n",
      "6893/6893 [==============================] - 44s 6ms/step - loss: 1.0705 - accuracy: 0.6905 - val_loss: nan - val_accuracy: 0.7089\n",
      "Epoch 3/10\n",
      "6893/6893 [==============================] - 45s 6ms/step - loss: 0.9477 - accuracy: 0.7142 - val_loss: nan - val_accuracy: 0.7221\n",
      "Epoch 4/10\n",
      "6893/6893 [==============================] - 44s 6ms/step - loss: 0.8865 - accuracy: 0.7268 - val_loss: nan - val_accuracy: 0.7323\n",
      "Epoch 5/10\n",
      "6893/6893 [==============================] - 44s 6ms/step - loss: 0.8410 - accuracy: 0.7357 - val_loss: nan - val_accuracy: 0.7400\n",
      "Epoch 6/10\n",
      "6893/6893 [==============================] - 45s 6ms/step - loss: 0.8049 - accuracy: 0.7428 - val_loss: nan - val_accuracy: 0.7463\n",
      "Epoch 7/10\n",
      "6893/6893 [==============================] - 44s 6ms/step - loss: 0.7759 - accuracy: 0.7496 - val_loss: nan - val_accuracy: 0.7568\n",
      "Epoch 8/10\n",
      "6893/6893 [==============================] - 44s 6ms/step - loss: 0.7491 - accuracy: 0.7569 - val_loss: nan - val_accuracy: 0.7667\n",
      "Epoch 9/10\n",
      "6893/6893 [==============================] - 44s 6ms/step - loss: 0.7265 - accuracy: 0.7646 - val_loss: nan - val_accuracy: 0.7675\n",
      "Epoch 10/10\n",
      "6893/6893 [==============================] - 44s 6ms/step - loss: 0.7081 - accuracy: 0.7707 - val_loss: nan - val_accuracy: 0.7731\n"
     ]
    }
   ],
   "source": [
    "#####################################################################################\n",
    "# Train stacked LSTM model\n",
    "\n",
    "stacked_lstm_model = stacked_lstm(tmp_x.shape,max_french_sequence_length,english_vocab_size,french_vocab_size)\n",
    "\n",
    "stacked_lstm_model.summary()\n",
    "\n",
    "history_2 = stacked_lstm_model.fit(tmp_x, preproc_french_sentences, batch_size=16, epochs=10, validation_split=0.2)"
   ]
  },
  {
   "cell_type": "code",
   "execution_count": 24,
   "id": "94561853",
   "metadata": {},
   "outputs": [
    {
     "name": "stdout",
     "output_type": "stream",
     "text": [
      "les états unis est généralement froid en juillet et il est généralement agréable en <PAD> <PAD> <PAD> <PAD> <PAD> <PAD> <PAD>\n",
      "californie est généralement calme en l' et et est généralement généralement en en <PAD> <PAD> <PAD> <PAD> <PAD> <PAD> <PAD> <PAD>\n",
      "les états unis est parfois doux en printemps et il est froid en septembre <PAD> <PAD> <PAD> <PAD> <PAD> <PAD> <PAD>\n",
      "votre fruit est moins aimé la raisin mais moins moins est est la <PAD> <PAD> <PAD> <PAD> <PAD> <PAD> <PAD> <PAD>\n",
      "son fruit préféré est la pomme mais son préféré est la raisin <PAD> <PAD> <PAD> <PAD> <PAD> <PAD> <PAD> <PAD> <PAD>\n",
      "paris est relaxant en décembre mais il est généralement froid en juillet <PAD> <PAD> <PAD> <PAD> <PAD> <PAD> <PAD> <PAD> <PAD>\n",
      "new jersey est occupé en printemps et il est jamais tranquille en mars <PAD> <PAD> <PAD> <PAD> <PAD> <PAD> <PAD> <PAD>\n",
      "notre fruit moins aimé est la pomme mais mon moins aimé est la <PAD> <PAD> <PAD> <PAD> <PAD> <PAD> <PAD> <PAD>\n",
      "les états unis est parfois occupé en l' et il est parfois enneigée en novembre <PAD> <PAD> <PAD> <PAD> <PAD> <PAD>\n",
      "les chaux est son fruit aimé des fruits la la est est moins aimé <PAD> <PAD> <PAD> <PAD> <PAD> <PAD> <PAD>\n"
     ]
    }
   ],
   "source": [
    "#####################################################################################\n",
    "# Display ten machine translation results using stacked LSTM\n",
    "\n",
    "for i in range(1,11):\n",
    "    prediction = stacked_lstm_model.predict(b[:,i,:,:])\n",
    "    print(logits_to_text(prediction[0], french_tokenizer))"
   ]
  },
  {
   "cell_type": "code",
   "execution_count": 25,
   "id": "3b278430",
   "metadata": {},
   "outputs": [
    {
     "name": "stdout",
     "output_type": "stream",
     "text": [
      "Plotting training accuracy\n",
      "\n"
     ]
    },
    {
     "data": {
      "image/png": "[encoded data removed]",
      "text/plain": [
       "<Figure size 432x288 with 1 Axes>"
      ]
     },
     "metadata": {
      "needs_background": "light"
     },
     "output_type": "display_data"
    }
   ],
   "source": [
    "#####################################################################################\n",
    "# Plotting training accuracy for stacked LSTM\n",
    "\n",
    "print('Plotting training accuracy\\n')\n",
    "plt.plot(history_2.history['accuracy'])\n",
    "plt.title('Translation Accuracy')\n",
    "plt.ylabel('Accuracy')\n",
    "plt.plot(history_2.history['val_accuracy'])\n",
    "plt.xlabel('Epoch')\n",
    "plt.legend(['Train', 'Test'], loc='upper left')\n",
    "plt.show()"
   ]
  },
  {
   "cell_type": "code",
   "execution_count": 27,
   "id": "c5c50767",
   "metadata": {},
   "outputs": [],
   "source": [
    "#####################################################################################\n",
    "# Define stacked GRU model\n",
    "\n",
    "from keras.layers import GRU\n",
    "def stacked_gru(input_shape, output_sequence_length, english_vocab_size, french_vocab_size):\n",
    "    \"\"\"\n",
    "    Build and train a basic RNN on x and y\n",
    "    :param input_shape: Tuple of input shape\n",
    "    :param output_sequence_length: Length of output sequence\n",
    "    :param english_vocab_size: Number of unique English words in the dataset\n",
    "    :param french_vocab_size: Number of unique French words in the dataset\n",
    "    :return: Keras model built, but not trained\n",
    "    \"\"\"\n",
    "    learning_rate = 1e-3\n",
    "    print(input_shape)\n",
    "\n",
    "    model = Sequential()\n",
    "    model.add(GRU(50, input_shape = input_shape[1:], return_sequences = True))   # return_sequences parameter has to be set True to stack\n",
    "    model.add(GRU(50, return_sequences = True))\n",
    "    model.add(Dense(french_vocab_size, activation='softmax'))\n",
    "\n",
    "    model.compile(loss = sparse_categorical_crossentropy, \n",
    "                 optimizer = Adam(learning_rate), \n",
    "                 metrics = ['accuracy'])\n",
    "    \n",
    "    return model\n"
   ]
  },
  {
   "cell_type": "code",
   "execution_count": 28,
   "id": "bc689a97",
   "metadata": {},
   "outputs": [
    {
     "name": "stdout",
     "output_type": "stream",
     "text": [
      "(137861, 21, 1)\n",
      "Model: \"sequential_2\"\n",
      "_________________________________________________________________\n",
      "Layer (type)                 Output Shape              Param #   \n",
      "=================================================================\n",
      "gru_1 (GRU)                  (None, 21, 50)            7950      \n",
      "_________________________________________________________________\n",
      "gru_2 (GRU)                  (None, 21, 50)            15300     \n",
      "_________________________________________________________________\n",
      "dense_3 (Dense)              (None, 21, 344)           17544     \n",
      "=================================================================\n",
      "Total params: 40,794\n",
      "Trainable params: 40,794\n",
      "Non-trainable params: 0\n",
      "_________________________________________________________________\n",
      "Epoch 1/10\n",
      "6893/6893 [==============================] - 37s 5ms/step - loss: 1.4630 - accuracy: 0.6200 - val_loss: nan - val_accuracy: 0.6776\n",
      "Epoch 2/10\n",
      "6893/6893 [==============================] - 36s 5ms/step - loss: 1.0560 - accuracy: 0.6868 - val_loss: nan - val_accuracy: 0.6916\n",
      "Epoch 3/10\n",
      "6893/6893 [==============================] - 36s 5ms/step - loss: 0.9526 - accuracy: 0.7081 - val_loss: nan - val_accuracy: 0.7219\n",
      "Epoch 4/10\n",
      "6893/6893 [==============================] - 36s 5ms/step - loss: 0.8878 - accuracy: 0.7240 - val_loss: nan - val_accuracy: 0.7337\n",
      "Epoch 5/10\n",
      "6893/6893 [==============================] - 36s 5ms/step - loss: 0.8440 - accuracy: 0.7343 - val_loss: nan - val_accuracy: 0.7325\n",
      "Epoch 6/10\n",
      "6893/6893 [==============================] - 36s 5ms/step - loss: 0.8147 - accuracy: 0.7414 - val_loss: nan - val_accuracy: 0.7443\n",
      "Epoch 7/10\n",
      "6893/6893 [==============================] - 36s 5ms/step - loss: 0.7878 - accuracy: 0.7490 - val_loss: nan - val_accuracy: 0.7598\n",
      "Epoch 8/10\n",
      "6893/6893 [==============================] - 36s 5ms/step - loss: 0.7689 - accuracy: 0.7547 - val_loss: nan - val_accuracy: 0.7658\n",
      "Epoch 9/10\n",
      "6893/6893 [==============================] - 36s 5ms/step - loss: 0.7505 - accuracy: 0.7606 - val_loss: nan - val_accuracy: 0.7302\n",
      "Epoch 10/10\n",
      "6893/6893 [==============================] - 37s 5ms/step - loss: 0.7382 - accuracy: 0.7647 - val_loss: nan - val_accuracy: 0.7621\n"
     ]
    }
   ],
   "source": [
    "#####################################################################################\n",
    "# Train stacked GRU model\n",
    "\n",
    "stacked_gru_model = stacked_gru(tmp_x.shape,max_french_sequence_length,english_vocab_size,french_vocab_size)\n",
    "\n",
    "stacked_gru_model.summary()\n",
    "\n",
    "history_3 = stacked_gru_model.fit(tmp_x, preproc_french_sentences, batch_size=16, epochs=10, validation_split=0.2)"
   ]
  },
  {
   "cell_type": "code",
   "execution_count": 29,
   "id": "6fd2ac07",
   "metadata": {},
   "outputs": [
    {
     "name": "stdout",
     "output_type": "stream",
     "text": [
      "les états unis est généralement froid en juillet et il est généralement agréable en <PAD> <PAD> <PAD> <PAD> <PAD> <PAD> <PAD>\n",
      "californie est généralement calme en mois et il est généralement calme en juin <PAD> <PAD> <PAD> <PAD> <PAD> <PAD> <PAD> <PAD>\n",
      "les états unis est parfois doux en juin et il est froid en septembre <PAD> <PAD> <PAD> <PAD> <PAD> <PAD> <PAD>\n",
      "votre fruit aimé moins aimé est pomme mais son moins aimé est la citron <PAD> <PAD> <PAD> <PAD> <PAD> <PAD> <PAD>\n",
      "son fruit préféré est la citron mais son favori est la pomme <PAD> <PAD> <PAD> <PAD> <PAD> <PAD> <PAD> <PAD> <PAD>\n",
      "paris est calme en février mais il est généralement froid en avril <PAD> <PAD> <PAD> <PAD> <PAD> <PAD> <PAD> <PAD> <PAD>\n",
      "new jersey est occupé en l' et il est jamais tranquille en mars <PAD> <PAD> <PAD> <PAD> <PAD> <PAD> <PAD> <PAD>\n",
      "notre fruit aimé aimé est la chaux mais son moins aimé est la <PAD> <PAD> <PAD> <PAD> <PAD> <PAD> <PAD> <PAD>\n",
      "les états unis est parfois occupé en janvier et il est parfois chaud en novembre <PAD> <PAD> <PAD> <PAD> <PAD> <PAD>\n",
      "les est est son fruit aimé des fruits mais la est est moins moins aimé <PAD> <PAD> <PAD> <PAD> <PAD> <PAD>\n"
     ]
    }
   ],
   "source": [
    "#####################################################################################\n",
    "# Display ten machine translation results using stacked GRU\n",
    "\n",
    "for i in range(1,11):\n",
    "    prediction = stacked_gru_model.predict(b[:,i,:,:])\n",
    "    print(logits_to_text(prediction[0], french_tokenizer))"
   ]
  },
  {
   "cell_type": "code",
   "execution_count": 30,
   "id": "35c79854",
   "metadata": {},
   "outputs": [
    {
     "name": "stdout",
     "output_type": "stream",
     "text": [
      "Plotting training accuracy\n",
      "\n"
     ]
    },
    {
     "data": {
      "image/png": "[encoded data removed]",
      "text/plain": [
       "<Figure size 432x288 with 1 Axes>"
      ]
     },
     "metadata": {
      "needs_background": "light"
     },
     "output_type": "display_data"
    }
   ],
   "source": [
    "#####################################################################################\n",
    "# Plotting training accuracy for stacked LSTM\n",
    "\n",
    "print('Plotting training accuracy\\n')\n",
    "plt.plot(history_3.history['accuracy'])\n",
    "plt.title('Translation Accuracy')\n",
    "plt.ylabel('Accuracy')\n",
    "plt.plot(history_3.history['val_accuracy'])\n",
    "plt.xlabel('Epoch')\n",
    "plt.legend(['Train', 'Test'], loc='upper left')\n",
    "plt.show()"
   ]
  },
  {
   "cell_type": "code",
   "execution_count": null,
   "id": "3798e76c",
   "metadata": {},
   "outputs": [],
   "source": []
  }
 ],
 "metadata": {
  "kernelspec": {
   "display_name": "Python 3 (ipykernel)",
   "language": "python",
   "name": "python3"
  },
  "language_info": {
   "codemirror_mode": {
    "name": "ipython",
    "version": 3
   },
   "file_extension": ".py",
   "mimetype": "text/x-python",
   "name": "python",
   "nbconvert_exporter": "python",
   "pygments_lexer": "ipython3",
   "version": "3.9.7"
  }
 },
 "nbformat": 4,
 "nbformat_minor": 5
}
